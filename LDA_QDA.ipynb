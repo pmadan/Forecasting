{
 "metadata": {
  "name": "",
  "signature": "sha256:fefa8d6e1e2fe66384b0c1d63fd9b35ea94353c9e13a5606372e09f5f94d0934"
 },
 "nbformat": 3,
 "nbformat_minor": 0,
 "worksheets": [
  {
   "cells": [
    {
     "cell_type": "code",
     "collapsed": false,
     "input": [
      "import datetime\n",
      "import numpy as np\n",
      "import pandas as pd\n",
      "import sklearn\n",
      "\n",
      "from pandas.io.data import DataReader\n",
      "from sklearn.linear_model import LogisticRegression\n",
      "from sklearn.lda import LDA\n",
      "from sklearn.qda import QDA"
     ],
     "language": "python",
     "metadata": {},
     "outputs": [],
     "prompt_number": 1
    },
    {
     "cell_type": "code",
     "collapsed": false,
     "input": [
      "def create_lagged_series(symbol, start_date, end_date, lags=5):\n",
      "    \"\"\"This creates a pandas DataFrame that stores the percentage returns of the \n",
      "    adjusted closing value of a stock obtained from Yahoo Finance, along with \n",
      "    a number of lagged returns from the prior trading days (lags defaults to 5 days).\n",
      "    Trading volume, as well as the Direction from the previous day, are also included.\"\"\"\n",
      "\n",
      "    # Obtain stock information from Yahoo Finance\n",
      "    ts = DataReader(symbol, \"yahoo\", start_date-datetime.timedelta(days=365), end_date)\n",
      "\n",
      "    # Create the new lagged DataFrame\n",
      "    tslag = pd.DataFrame(index=ts.index)\n",
      "    tslag[\"Today\"] = ts[\"Adj Close\"]\n",
      "    tslag[\"Volume\"] = ts[\"Volume\"]\n",
      "\n",
      "    # Create the shifted lag series of prior trading period close values\n",
      "    for i in xrange(0,lags):\n",
      "        tslag[\"Lag%s\" % str(i+1)] = ts[\"Adj Close\"].shift(i+1)\n",
      "\n",
      "    # Create the returns DataFrame\n",
      "    tsret = pd.DataFrame(index=tslag.index)\n",
      "    tsret[\"Volume\"] = tslag[\"Volume\"]\n",
      "    tsret[\"Today\"] = tslag[\"Today\"].pct_change()*100.0\n",
      "\n",
      "    # If any of the values of percentage returns equal zero, set them to\n",
      "    # a small number (stops issues with QDA model in scikit-learn)\n",
      "    for i,x in enumerate(tsret[\"Today\"]):\n",
      "        if (abs(x) < 0.0001):\n",
      "            tsret[\"Today\"][i] = 0.0001\n",
      "\n",
      "    # Create the lagged percentage returns columns\n",
      "    for i in xrange(0,lags):\n",
      "        tsret[\"Lag%s\" % str(i+1)] = tslag[\"Lag%s\" % str(i+1)].pct_change()*100.0\n",
      "\n",
      "    # Create the \"Direction\" column (+1 or -1) indicating an up/down day\n",
      "    tsret[\"Direction\"] = np.sign(tsret[\"Today\"])\n",
      "    tsret = tsret[tsret.index >= start_date]\n",
      "\n",
      "    return tsret"
     ],
     "language": "python",
     "metadata": {},
     "outputs": [],
     "prompt_number": 2
    },
    {
     "cell_type": "code",
     "collapsed": false,
     "input": [
      "def fit_model(name, model, X_train, y_train, X_test, pred):\n",
      "    \"\"\"Fits a classification model (for our purposes this is LR, LDA and QDA)\n",
      "    using the training data, then makes a prediction and subsequent \"hit rate\"\n",
      "    for the test data.\"\"\"\n",
      "\n",
      "    # Fit and predict the model on the training, and then test, data\n",
      "    model.fit(X_train, y_train)\n",
      "    pred[name] = model.predict(X_test)\n",
      "\n",
      "    # Create a series with 1 being correct direction, 0 being wrong\n",
      "    # and then calculate the hit rate based on the actual direction\n",
      "    pred[\"%s_Correct\" % name] = (1.0+pred[name]*pred[\"Actual\"])/2.0\n",
      "    hit_rate = np.mean(pred[\"%s_Correct\" % name])\n",
      "    print \"%s: %.3f\" % (name, hit_rate)\n"
     ],
     "language": "python",
     "metadata": {},
     "outputs": [],
     "prompt_number": 4
    },
    {
     "cell_type": "code",
     "collapsed": false,
     "input": [
      "if __name__ == \"__main__\":\n",
      "    # Create a lagged series of the S&P500 US stock market index - \"^GSPC\"\n",
      "    snpret = create_lagged_series(\"AAPL\", datetime.datetime(2013,1,1), datetime.datetime(2014,11,10), lags=5)\n",
      "\n",
      "    # Use the prior two days of returns as predictor values, with direction as the response\n",
      "    X = snpret[[\"Lag1\",\"Lag2\"]]\n",
      "    y = snpret[\"Direction\"]\n",
      "\n",
      "    # The test data is split into two parts: Before and after 1st Jan 2005.\n",
      "    start_test = datetime.datetime(2014,1,1)\n",
      "\n",
      "    # Create training and test sets\n",
      "    X_train = X[X.index < start_test]\n",
      "    X_test = X[X.index >= start_test]\n",
      "    y_train = y[y.index < start_test]\n",
      "    y_test = y[y.index >= start_test]\n",
      "\n",
      "    # Create prediction DataFrame\n",
      "    pred = pd.DataFrame(index=y_test.index)\n",
      "    pred[\"Actual\"] = y_test\n",
      "    \n",
      "    # Create and fit the three models    \n",
      "    print \"Hit Rates:\"\n",
      "    models = [(\"LR\", LogisticRegression()), (\"LDA\", LDA()), (\"QDA\", QDA())]\n",
      "    for m in models:\n",
      "        fit_model(m[0], m[1], X_train, y_train, X_test, pred)"
     ],
     "language": "python",
     "metadata": {},
     "outputs": [
      {
       "output_type": "stream",
       "stream": "stdout",
       "text": [
        "Hit Rates:\n",
        "LR: 0.424\n",
        "LDA: 0.424\n",
        "QDA: 0.548\n"
       ]
      }
     ],
     "prompt_number": 5
    },
    {
     "cell_type": "code",
     "collapsed": false,
     "input": [],
     "language": "python",
     "metadata": {},
     "outputs": []
    }
   ],
   "metadata": {}
  }
 ]
}