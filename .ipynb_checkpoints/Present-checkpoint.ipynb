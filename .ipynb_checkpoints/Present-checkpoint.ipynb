{
 "metadata": {
  "name": "",
  "signature": "sha256:dcc0fda6111859ecf6859259d30d78f207566ace5e2e07dbe2970b325cba5790"
 },
 "nbformat": 3,
 "nbformat_minor": 0,
 "worksheets": []
}