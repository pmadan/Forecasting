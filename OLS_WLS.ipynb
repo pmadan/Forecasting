{
 "metadata": {
  "name": "",
  "signature": "sha256:8766bc73f578b5eeb330c7decd40f7602fd4e169fa79960a978e6a636f7449a1"
 },
 "nbformat": 3,
 "nbformat_minor": 0,
 "worksheets": [
  {
   "cells": [
    {
     "cell_type": "code",
     "collapsed": false,
     "input": [
      "%matplotlib inline\n",
      "\n",
      "from scipy import stats\n",
      "import statsmodels.api as sm\n",
      "from statsmodels.graphics.api import qqplot\n",
      "\n",
      "import numpy as np\n",
      "import pandas as pd\n",
      "import matplotlib.pyplot as plt\n",
      "import datetime as dt\n",
      "\n",
      "import pandas.io.data as web\n",
      "\n",
      "pd.set_option('display.mpl_style', 'default')\n",
      "\n",
      "plt.rcParams['figure.figsize'] = (20, 10)"
     ],
     "language": "python",
     "metadata": {},
     "outputs": [],
     "prompt_number": 2
    },
    {
     "cell_type": "code",
     "collapsed": false,
     "input": [
      "spc = web.DataReader(name = \"^GSPC\", data_source = 'yahoo', start = '2010-1-1')\n"
     ],
     "language": "python",
     "metadata": {},
     "outputs": [],
     "prompt_number": 3
    },
    {
     "cell_type": "code",
     "collapsed": false,
     "input": [],
     "language": "python",
     "metadata": {},
     "outputs": []
    }
   ],
   "metadata": {}
  }
 ]
}